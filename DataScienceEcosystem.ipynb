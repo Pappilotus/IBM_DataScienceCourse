{
 "cells": [
  {
   "cell_type": "markdown",
   "id": "9f0aa752-3f3a-4368-a5c1-3b8bce9fbcf2",
   "metadata": {},
   "source": [
    "# Data Science Tools and Ecosystem"
   ]
  },
  {
   "cell_type": "markdown",
   "id": "4a3bdd02-f7b3-46dd-a5a4-72440d0c3b2c",
   "metadata": {},
   "source": [
    "In this notebook, Data Science Tools and Ecosystem are summarized."
   ]
  },
  {
   "cell_type": "markdown",
   "id": "cf960e89-93b6-42a0-94d1-a7157d55503b",
   "metadata": {},
   "source": [
    "Objectives:\n",
    "* Popular Data Science languages\n",
    "* Commonly used libraries\n",
    "* Data Science tools"
   ]
  },
  {
   "cell_type": "markdown",
   "id": "9503defc-11b8-4b90-9589-e93194769957",
   "metadata": {},
   "source": [
    "Some of the popular languages that Data Scientists use are:\n",
    "1. Python\n",
    "2. R\n",
    "3. Julia"
   ]
  },
  {
   "cell_type": "markdown",
   "id": "4407c73c-0126-43fc-81c1-a61da3d67691",
   "metadata": {},
   "source": [
    "Some of the commonly used libraries used by Data Scientists include:\n",
    "1. Pandas\n",
    "2. Matplotlib\n",
    "3. Scikit-learn"
   ]
  },
  {
   "cell_type": "markdown",
   "id": "f9ed4c52-b5a6-42a7-800e-ba857edba9c6",
   "metadata": {},
   "source": [
    "| Data Science Tools |\n",
    "| --------- |\n",
    "| Jupitor lab |\n",
    "| RStudio |\n",
    "| VS Code |"
   ]
  },
  {
   "cell_type": "markdown",
   "id": "c61c0dfd-3b52-4747-b391-2cacb729a60e",
   "metadata": {},
   "source": [
    "### Below are a few examples of evaluating arithmetic expressions in Python"
   ]
  },
  {
   "cell_type": "code",
   "execution_count": 2,
   "id": "298bfc44-d5fd-46c0-a828-e51666e411e7",
   "metadata": {},
   "outputs": [
    {
     "data": {
      "text/plain": [
       "17"
      ]
     },
     "execution_count": 2,
     "metadata": {},
     "output_type": "execute_result"
    }
   ],
   "source": [
    "#This a simple arithmetic expression to mutiply then add integers\n",
    "(3*4)+5"
   ]
  },
  {
   "cell_type": "code",
   "execution_count": 3,
   "id": "684011f1-ace3-4cb7-9f27-488fcc882a74",
   "metadata": {},
   "outputs": [
    {
     "data": {
      "text/plain": [
       "3.3333333333333335"
      ]
     },
     "execution_count": 3,
     "metadata": {},
     "output_type": "execute_result"
    }
   ],
   "source": [
    "#This will convert 200 minutes to hours by diving by 60\n",
    "200/60"
   ]
  },
  {
   "cell_type": "markdown",
   "id": "c10db432-ca32-437d-a5ea-8f1a94147aef",
   "metadata": {},
   "source": [
    "## Author\n",
    "Irina Smazhil"
   ]
  },
  {
   "cell_type": "code",
   "execution_count": null,
   "id": "338bd6df-dfdc-4a93-a9ec-2aa2ea9633f3",
   "metadata": {},
   "outputs": [],
   "source": []
  }
 ],
 "metadata": {
  "kernelspec": {
   "display_name": "Python 3 (ipykernel)",
   "language": "python",
   "name": "python3"
  },
  "language_info": {
   "codemirror_mode": {
    "name": "ipython",
    "version": 3
   },
   "file_extension": ".py",
   "mimetype": "text/x-python",
   "name": "python",
   "nbconvert_exporter": "python",
   "pygments_lexer": "ipython3",
   "version": "3.12.7"
  }
 },
 "nbformat": 4,
 "nbformat_minor": 5
}
